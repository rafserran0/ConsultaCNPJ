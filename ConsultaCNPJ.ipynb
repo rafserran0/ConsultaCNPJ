{
  "nbformat": 4,
  "nbformat_minor": 0,
  "metadata": {
    "colab": {
      "provenance": [],
      "authorship_tag": "ABX9TyML3Pazb93znuwNPyLiWz03",
      "include_colab_link": true
    },
    "kernelspec": {
      "name": "python3",
      "display_name": "Python 3"
    },
    "language_info": {
      "name": "python"
    }
  },
  "cells": [
    {
      "cell_type": "markdown",
      "metadata": {
        "id": "view-in-github",
        "colab_type": "text"
      },
      "source": [
        "<a href=\"https://colab.research.google.com/github/rafserran0/ConsultaCNPJ/blob/main/ConsultaCNPJ.ipynb\" target=\"_parent\"><img src=\"https://colab.research.google.com/assets/colab-badge.svg\" alt=\"Open In Colab\"/></a>"
      ]
    },
    {
      "cell_type": "markdown",
      "source": [
        "Consulta CNPJ"
      ],
      "metadata": {
        "id": "f-ND3OmN5oJL"
      }
    },
    {
      "cell_type": "code",
      "execution_count": 1,
      "metadata": {
        "colab": {
          "base_uri": "https://localhost:8080/"
        },
        "id": "zoFwm2UT5jiw",
        "outputId": "38233789-b487-4a78-fdb4-2159d3dc11ed"
      },
      "outputs": [
        {
          "output_type": "stream",
          "name": "stdout",
          "text": [
            "Razão Social: CARREFOUR COMERCIO E INDUSTRIA LTDA\n",
            "Endereço: AVENIDA INTERLAGOS 2501, 2501 - , JARDIM UMUARAMA, SAO PAULO/SP, 04.661-902\n"
          ]
        }
      ],
      "source": [
        "# Importar bibliotecas\n",
        "import requests\n",
        "\n",
        "\n",
        "# Função para consultar CNPJ\n",
        "def consultar_cnpj(cnpj):\n",
        "    url = f\"https://www.receitaws.com.br/v1/cnpj/{cnpj}\"\n",
        "    headers = {\"Accept\": \"application/json\"}\n",
        "    response = requests.get(url, headers=headers)\n",
        "\n",
        "    if response.status_code == 200:\n",
        "        dados = response.json()\n",
        "        razao_social = dados['nome']\n",
        "        logradouro = dados['logradouro']\n",
        "        numero = dados['numero']\n",
        "        complemento = dados['complemento']\n",
        "        bairro = dados['bairro']\n",
        "        municipio = dados['municipio']\n",
        "        uf = dados['uf']\n",
        "        cep = dados['cep']\n",
        "\n",
        "        endereco = f\"{logradouro}, {numero} - {complemento}, {bairro}, {municipio}/{uf}, {cep}\"\n",
        "        return razao_social, endereco\n",
        "    else:\n",
        "        return None, None\n",
        "\n",
        "\n",
        "cnpj = \"45543915002125\"  # Substitua pelo CNPJ que deseja consultar\n",
        "razao_social, endereco = consultar_cnpj(cnpj)\n",
        "\n",
        "if razao_social and endereco:\n",
        "    print(f\"Razão Social: {razao_social}\")\n",
        "    print(f\"Endereço: {endereco}\")\n",
        "else:\n",
        "    print(\"CNPJ inválido ou erro na consulta.\")"
      ]
    },
    {
      "cell_type": "code",
      "source": [],
      "metadata": {
        "id": "d52yqPrB5okP"
      },
      "execution_count": null,
      "outputs": []
    }
  ]
}